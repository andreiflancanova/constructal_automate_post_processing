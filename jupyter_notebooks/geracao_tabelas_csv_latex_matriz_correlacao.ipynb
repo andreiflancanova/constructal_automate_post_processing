{
 "cells": [
  {
   "cell_type": "code",
   "execution_count": 3,
   "id": "d2aa6edc-de04-42ea-9148-74b0ceb60d69",
   "metadata": {},
   "outputs": [],
   "source": [
    "import pandas as pd"
   ]
  },
  {
   "cell_type": "code",
   "execution_count": 1,
   "id": "407b65eb-0356-4152-8cb3-1f1bf8adebfb",
   "metadata": {},
   "outputs": [],
   "source": [
    "file_name = 'estudo_caso_matriz_correlacao'\n",
    "csv_name = file_name + \".csv\"\n",
    "latex_name = file_name + \".tex\""
   ]
  },
  {
   "cell_type": "code",
   "execution_count": 2,
   "id": "d968244d-fd60-40c8-b096-c480011390e4",
   "metadata": {},
   "outputs": [],
   "source": [
    "def general_formatter(fmt, value):\n",
    "    return f'{fmt}' % value\n",
    "\n",
    "def formatter_d(value):\n",
    "    return '%d' % value\n",
    "\n",
    "def formatter_float1(value):\n",
    "    return '%.1f' % value\n",
    "\n",
    "def formatter_float2(value):\n",
    "    return '%.2f' % value\n",
    "\n",
    "def formatter_float3(value):\n",
    "    return '%.3f' % value\n",
    "\n",
    "def formatter_float4(value):\n",
    "    return '%.4f' % value"
   ]
  },
  {
   "cell_type": "code",
   "execution_count": 4,
   "id": "28504c2a-4ee6-4ada-89f6-11a25d3f6695",
   "metadata": {},
   "outputs": [],
   "source": [
    "def generate_latex_from_df(df):\n",
    "    # Salvar o resultado como um arquivo CSV\n",
    "    df.to_csv(base_path + csv_name, index=False)\n",
    "\n",
    "    formatters = ['%d', '%d']\n",
    "\n",
    "    # Converter o DataFrame para LaTeX\n",
    "    print(f\"Convertendo o arquivo CSV para LaTeX\")\n",
    "    latex_table = df.to_latex(formatters=[formatter_d, formatter_d, formatter_float3, formatter_d, formatter_d, formatter_float2, formatter_float4, formatter_float3, formatter_float3],\n",
    "                              decimal=',',\n",
    "                              index=False)\n",
    "\n",
    "    # Salvar a tabela LaTeX em um arquivo .tex\n",
    "    with open(base_path + latex_name, \"w\") as f:\n",
    "        f.write(latex_table)\n",
    "\n",
    "    print(\"Tabela LaTeX criada com sucesso!\")"
   ]
  },
  {
   "cell_type": "code",
   "execution_count": null,
   "id": "a195d0a8-c116-446c-bcac-a60ff9b07024",
   "metadata": {},
   "outputs": [],
   "source": []
  },
  {
   "cell_type": "code",
   "execution_count": 17,
   "id": "4d175414-725b-42d3-b62d-96507e151ebf",
   "metadata": {},
   "outputs": [],
   "source": [
    "df_results = retrieve_data_from_db(host, port, user, password, database, query)"
   ]
  },
  {
   "cell_type": "code",
   "execution_count": 20,
   "id": "2449f98a-34ec-42cf-a492-18381973b3a6",
   "metadata": {},
   "outputs": [
    {
     "name": "stdout",
     "output_type": "stream",
     "text": [
      "Convertendo o arquivo CSV para LaTeX\n",
      "Tabela LaTeX criada com sucesso!\n"
     ]
    }
   ],
   "source": [
    "generate_latex_from_df(df_results)"
   ]
  }
 ],
 "metadata": {
  "kernelspec": {
   "display_name": "Python 3 (ipykernel)",
   "language": "python",
   "name": "python3"
  },
  "language_info": {
   "codemirror_mode": {
    "name": "ipython",
    "version": 3
   },
   "file_extension": ".py",
   "mimetype": "text/x-python",
   "name": "python",
   "nbconvert_exporter": "python",
   "pygments_lexer": "ipython3",
   "version": "3.12.6"
  }
 },
 "nbformat": 4,
 "nbformat_minor": 5
}
