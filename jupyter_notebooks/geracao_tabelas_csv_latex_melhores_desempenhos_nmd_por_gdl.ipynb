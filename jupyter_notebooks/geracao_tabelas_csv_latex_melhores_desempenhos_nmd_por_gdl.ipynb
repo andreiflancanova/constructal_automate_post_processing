{
 "cells": [
  {
   "cell_type": "code",
   "execution_count": 10,
   "id": "d2aa6edc-de04-42ea-9148-74b0ceb60d69",
   "metadata": {},
   "outputs": [],
   "source": [
    "import pandas as pd\n",
    "import pymysql\n",
    "from sqlalchemy import create_engine"
   ]
  },
  {
   "cell_type": "code",
   "execution_count": 11,
   "id": "54af1707-d14f-46c5-866c-6c376333e964",
   "metadata": {},
   "outputs": [],
   "source": [
    "# Configuração dos parâmetros do banco\n",
    "host='localhost'\n",
    "port=3306\n",
    "database='constructal_automate_results'\n",
    "user='constructal_automate'\n",
    "password='constructal_design_2024'\n",
    "\n",
    "query = f'''\n",
    "  WITH RankedValues AS (\n",
    "    SELECT sp.N_ls, sp.N_ts, sp.k, sp.h_s, sp.t_s, epb.sigma_u, epb.w_max, \n",
    "           ROUND(epb.sigma_u / 59.68, 3) AS NUS_2A, \n",
    "           ROUND(epb.w_max / 38.0533, 3) AS NMD_2A,\n",
    "           ROW_NUMBER() OVER (PARTITION BY sp.N_ls, sp.N_ts ORDER BY ROUND(epb.w_max / 38.0533, 3) ASC) AS RowNum\n",
    "    FROM constructal_automate_results.cbeb_elastoplasticbuckling epb\n",
    "    INNER JOIN constructal_automate_results.cbeb_stiffenedplateanalysis spa \n",
    "        ON epb.stiffened_plate_analysis_id = spa.id\n",
    "    INNER JOIN constructal_automate_results.csg_stiffenedplate sp \n",
    "        ON spa.stiffened_plate_id = sp.id\n",
    "    WHERE spa.buckling_load_type_id = 2 \n",
    "      AND epb.id NOT BETWEEN 259 AND 266\n",
    "      AND sp.t_s IN (10, 15, 20)\n",
    ")\n",
    "SELECT N_ls, N_ts, k, h_s, t_s, sigma_u, w_max, NUS_2A, NMD_2A\n",
    "FROM RankedValues\n",
    "WHERE RowNum = 1;\n",
    "'''\n",
    "\n",
    "base_path = 'tabelas_dissertacao/'"
   ]
  },
  {
   "cell_type": "code",
   "execution_count": 12,
   "id": "407b65eb-0356-4152-8cb3-1f1bf8adebfb",
   "metadata": {},
   "outputs": [],
   "source": [
    "file_name = 'estudo_caso_melhores_desempenhos_nmd_gdl'\n",
    "csv_name = file_name + \".csv\"\n",
    "latex_name = file_name + \".tex\""
   ]
  },
  {
   "cell_type": "code",
   "execution_count": 13,
   "id": "54f33990-11b1-4727-a637-34bfef105c4b",
   "metadata": {},
   "outputs": [],
   "source": [
    "def retrieve_data_from_db(host, port, user, password, database, query):\n",
    "    try:\n",
    "        # Criar a conexão com o banco de dados\n",
    "        connection_string = f\"mysql+pymysql://{user}:{password}@{host}:{port}/{database}\"\n",
    "        engine = create_engine(connection_string)\n",
    "\n",
    "        # Executar a query e carregar os dados em um DataFrame\n",
    "        df = pd.read_sql(query, engine)\n",
    "        return df\n",
    "    except Exception as e:\n",
    "        print(f\"Erro: {e}\")"
   ]
  },
  {
   "cell_type": "code",
   "execution_count": 14,
   "id": "d968244d-fd60-40c8-b096-c480011390e4",
   "metadata": {},
   "outputs": [],
   "source": [
    "def general_formatter(fmt, value):\n",
    "    return f'{fmt}' % value\n",
    "\n",
    "def formatter_d(value):\n",
    "    return '%d' % value\n",
    "\n",
    "def formatter_float1(value):\n",
    "    return '%.1f' % value\n",
    "\n",
    "def formatter_float2(value):\n",
    "    return '%.2f' % value\n",
    "\n",
    "def formatter_float3(value):\n",
    "    return '%.3f' % value\n",
    "\n",
    "def formatter_float4(value):\n",
    "    return '%.4f' % value"
   ]
  },
  {
   "cell_type": "code",
   "execution_count": 15,
   "id": "28504c2a-4ee6-4ada-89f6-11a25d3f6695",
   "metadata": {},
   "outputs": [],
   "source": [
    "def generate_latex_from_df(df):\n",
    "    # Salvar o resultado como um arquivo CSV\n",
    "    df.to_csv(base_path + csv_name, index=False)\n",
    "\n",
    "    formatters = ['%d', '%d']\n",
    "\n",
    "    # Converter o DataFrame para LaTeX\n",
    "    print(f\"Convertendo o arquivo CSV para LaTeX\")\n",
    "    latex_table = df.to_latex(formatters=[formatter_d, formatter_d, formatter_float3, formatter_d, formatter_d, formatter_float2, formatter_float4, formatter_float3, formatter_float3],\n",
    "                              decimal=',',\n",
    "                              index=False)\n",
    "\n",
    "    # Salvar a tabela LaTeX em um arquivo .tex\n",
    "    with open(base_path + latex_name, \"w\") as f:\n",
    "        f.write(latex_table)\n",
    "\n",
    "    print(\"Tabela LaTeX criada com sucesso!\")"
   ]
  },
  {
   "cell_type": "code",
   "execution_count": 16,
   "id": "4d175414-725b-42d3-b62d-96507e151ebf",
   "metadata": {},
   "outputs": [],
   "source": [
    "df_results = retrieve_data_from_db(host, port, user, password, database, query)"
   ]
  },
  {
   "cell_type": "code",
   "execution_count": 17,
   "id": "2449f98a-34ec-42cf-a492-18381973b3a6",
   "metadata": {},
   "outputs": [
    {
     "name": "stdout",
     "output_type": "stream",
     "text": [
      "Convertendo o arquivo CSV para LaTeX\n",
      "Tabela LaTeX criada com sucesso!\n"
     ]
    }
   ],
   "source": [
    "generate_latex_from_df(df_results)"
   ]
  }
 ],
 "metadata": {
  "kernelspec": {
   "display_name": "Python 3 (ipykernel)",
   "language": "python",
   "name": "python3"
  },
  "language_info": {
   "codemirror_mode": {
    "name": "ipython",
    "version": 3
   },
   "file_extension": ".py",
   "mimetype": "text/x-python",
   "name": "python",
   "nbconvert_exporter": "python",
   "pygments_lexer": "ipython3",
   "version": "3.12.6"
  }
 },
 "nbformat": 4,
 "nbformat_minor": 5
}
