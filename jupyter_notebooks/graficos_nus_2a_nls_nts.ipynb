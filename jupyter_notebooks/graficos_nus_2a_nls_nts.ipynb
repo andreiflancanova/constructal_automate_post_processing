{
 "cells": [
  {
   "cell_type": "code",
   "execution_count": 4,
   "id": "f4811efa-87a9-4ab3-8fdf-f9ab0192ce5e",
   "metadata": {},
   "outputs": [],
   "source": [
    "import matplotlib.pyplot as plt\n",
    "from scipy.interpolate import make_interp_spline, BSpline\n",
    "import numpy as np\n",
    "from decimal import Decimal\n",
    "from matplotlib.ticker import AutoMinorLocator, FuncFormatter,MultipleLocator, FormatStrFormatter\n",
    "import matplotlib.ticker as ticker\n",
    "import locale\n",
    "locale.setlocale(locale.LC_NUMERIC, 'pt_BR.UTF-8')\n",
    "\n",
    "plt.rcParams['axes.formatter.use_locale'] = True\n",
    "plt.rcParams['font.family'] = 'Lucida Sans'"
   ]
  },
  {
   "cell_type": "code",
   "execution_count": 3,
   "id": "bad9e244-b333-481b-9beb-96bf266ccb51",
   "metadata": {},
   "outputs": [],
   "source": [
    "query = '''\n",
    "SELECT sp.id, sp.k, epb.w_max FROM constructal_automate_results.cbeb_elastoplasticbuckling as epb\n",
    "INNER JOIN constructal_automate_results.cbeb_stiffenedplateanalysis as spa on epb.stiffened_plate_analysis_id=spa.id\n",
    "INNER JOIN constructal_automate_results.csg_stiffenedplate as sp on spa.stiffened_plate_id=sp.id \n",
    "WHERE \n",
    "spa.buckling_load_type_id = 2 and\n",
    "epb.id not between 259 and 266;\n",
    "'''\n",
    "\n",
    "def retrieve_data_from_bd(query):\n",
    "    con = mysql.connector.connect(\n",
    "        host=\"localhost\",        \n",
    "        user=\"constructal_automate\",     \n",
    "        password=\"constructal_design_2024\",    \n",
    "        database=\"constructal_automate_results\"\n",
    "    )\n",
    "    cur = con.cursor()\n",
    "    cur.execute(query)\n",
    "    dados = cur.fetchall()\n",
    "    \n",
    "    # Fechar a conexão com o banco de dados\n",
    "    con.close()\n",
    "    return data"
   ]
  },
  {
   "cell_type": "code",
   "execution_count": null,
   "id": "1a6f6ae1-1496-4fa8-a2b4-fb6aabd02d5e",
   "metadata": {},
   "outputs": [],
   "source": [
    "def generate_constructal_design_plots(N_ls, N_ts, vetor_x, vetor_y):   \n",
    "    fig, ax = plt.subplots(figsize=(8, 6))\n",
    "\n",
    "    formatter = ticker.FuncFormatter(lambda x, _: f'{x:,.2f}'.replace(',', 'X').replace('.', ',').replace('X', '.'))\n",
    "    ax.yaxis.set_major_formatter(formatter)\n",
    "    \n",
    "    ax.plot(k_data, sigma_u_2a_sp_data, '-o', color='#486858', lw=2, markersize=4, label=rf'$Com\\;Enrijecedores\\;(N_{{ls}} = {N_ls}, N_{{ts}} = {N_ts})$')\n",
    "    ax.plot(k_data_ref, sigma_u_2a_ns_data, color='#eb8e27', lw=2, linestyle='--', marker='', label=rf'Sem Enrijecedores')\n",
    "    \n",
    "    ax.set_xlabel(rf'$h_{{s}}/t_{{s}}$', fontsize=18)\n",
    "    ax.set_ylabel(rf'$NMD_{{2A}}$', fontsize=18)\n",
    "    ax.legend(loc='upper right', fontsize=14)\n",
    "    \n",
    "    ax.grid(True, which='major', linestyle='-', linewidth=0.25, color='gray')  # Grade principal\n",
    "    ax.grid(True, which='minor', linestyle='--', linewidth=0.25, color='lightgray')  # Grade secundária\n",
    "    \n",
    "    \n",
    "    ax.set_xlim([min_k, max_k])\n",
    "    ax.set_ylim([min_sigma_u, max_sigma_u])\n",
    "    \n",
    "    # Configurar os locators de forma explícita\n",
    "    ax.xaxis.set_major_locator(MultipleLocator(10))  # Ticks principais no eixo X\n",
    "    ax.xaxis.set_minor_locator(MultipleLocator(2))   # Ticks menores no eixo X\n",
    "    \n",
    "    ax.yaxis.set_major_locator(MultipleLocator(0.25))   # Ticks principais no eixo Y\n",
    "    ax.yaxis.set_minor_locator(MultipleLocator(0.05)) # Ticks menores no eixo Y\n",
    "\n",
    "    ax.tick_params(axis='both', labelsize=18)\n",
    "    \n",
    "    # plt.savefig(f'graficos_design_construtal/grafico-L{N_ls}-T{N_ts}-phi-0.3.png')\n",
    "    # plt.savefig(f'graficos_dc_nmd/grafico_L{N_ls}_T{N_ts}_phi_0.3.png')\n",
    "    plt.show()"
   ]
  }
 ],
 "metadata": {
  "kernelspec": {
   "display_name": "Python 3 (ipykernel)",
   "language": "python",
   "name": "python3"
  },
  "language_info": {
   "codemirror_mode": {
    "name": "ipython",
    "version": 3
   },
   "file_extension": ".py",
   "mimetype": "text/x-python",
   "name": "python",
   "nbconvert_exporter": "python",
   "pygments_lexer": "ipython3",
   "version": "3.12.6"
  }
 },
 "nbformat": 4,
 "nbformat_minor": 5
}
